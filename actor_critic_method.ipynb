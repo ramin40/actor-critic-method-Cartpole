{
  "nbformat": 4,
  "nbformat_minor": 0,
  "metadata": {
    "colab": {
      "name": "actor-critic method.ipynb",
      "provenance": [],
      "authorship_tag": "ABX9TyNaRK4Po5+x5f5woUeEHP3w",
      "include_colab_link": true
    },
    "kernelspec": {
      "name": "python3",
      "display_name": "Python 3"
    },
    "language_info": {
      "name": "python"
    }
  },
  "cells": [
    {
      "cell_type": "markdown",
      "metadata": {
        "id": "view-in-github",
        "colab_type": "text"
      },
      "source": [
        "<a href=\"https://colab.research.google.com/github/ramin40/actor-critic-method-Cartpole/blob/main/actor_critic_method.ipynb\" target=\"_parent\"><img src=\"https://colab.research.google.com/assets/colab-badge.svg\" alt=\"Open In Colab\"/></a>"
      ]
    },
    {
      "cell_type": "markdown",
      "metadata": {
        "id": "SnUhQ9cVsKV0"
      },
      "source": [
        "# importing necessary libraries"
      ]
    },
    {
      "cell_type": "code",
      "metadata": {
        "id": "7Wjur6Apr2Vj"
      },
      "source": [
        "import gym\n",
        "import numpy as np\n",
        "import matplotlib.pyplot as plt\n",
        "import tensorflow as tf\n",
        "from keras import layers"
      ],
      "execution_count": 3,
      "outputs": []
    },
    {
      "cell_type": "markdown",
      "metadata": {
        "id": "eqxtFmPLsOHV"
      },
      "source": [
        "# specifying constants"
      ]
    },
    {
      "cell_type": "code",
      "metadata": {
        "id": "-_raoRIVsNzw"
      },
      "source": [
        "seed=123\n",
        "tf.random.set_seed(seed)\n",
        "env=gym.make('CartPole-v0')\n",
        "env.seed(seed)\n",
        "max_step_per_episode=10000\n",
        "gamma=0.99\n",
        "eps=np.finfo(np.float32).eps.item()"
      ],
      "execution_count": 4,
      "outputs": []
    },
    {
      "cell_type": "markdown",
      "metadata": {
        "id": "exm-m2mktEYY"
      },
      "source": [
        "# creating actor-critic network"
      ]
    },
    {
      "cell_type": "code",
      "metadata": {
        "colab": {
          "base_uri": "https://localhost:8080/"
        },
        "id": "Wzcr-RAVs4k8",
        "outputId": "ce099f14-8902-4ade-c994-14da2f172f20"
      },
      "source": [
        "num_actions=2\n",
        "num_hidden_units=128\n",
        "num_input_states=4\n",
        "\n",
        "input=layers.Input(shape=(4,))\n",
        "common=layers.Dense(num_hidden_units,activation='relu')(input)\n",
        "action_probs=layers.Dense(num_actions,activation='softmax')(common)\n",
        "state_value=layers.Dense(1)(common)\n",
        "actor_critic_model=tf.keras.models.Model(input,[action_probs,state_value])\n",
        "actor_critic_model.summary()"
      ],
      "execution_count": 5,
      "outputs": [
        {
          "output_type": "stream",
          "name": "stdout",
          "text": [
            "Model: \"model\"\n",
            "__________________________________________________________________________________________________\n",
            "Layer (type)                    Output Shape         Param #     Connected to                     \n",
            "==================================================================================================\n",
            "input_1 (InputLayer)            [(None, 4)]          0                                            \n",
            "__________________________________________________________________________________________________\n",
            "dense (Dense)                   (None, 128)          640         input_1[0][0]                    \n",
            "__________________________________________________________________________________________________\n",
            "dense_1 (Dense)                 (None, 2)            258         dense[0][0]                      \n",
            "__________________________________________________________________________________________________\n",
            "dense_2 (Dense)                 (None, 1)            129         dense[0][0]                      \n",
            "==================================================================================================\n",
            "Total params: 1,027\n",
            "Trainable params: 1,027\n",
            "Non-trainable params: 0\n",
            "__________________________________________________________________________________________________\n"
          ]
        }
      ]
    },
    {
      "cell_type": "code",
      "metadata": {
        "colab": {
          "base_uri": "https://localhost:8080/"
        },
        "id": "k0z2hiISuEwz",
        "outputId": "5286a86b-a2f9-4605-b35b-36f4176df859"
      },
      "source": [
        "running_reward=0\n",
        "optimizer=tf.keras.optimizers.Adam(learning_rate=0.01)\n",
        "huber_loss=tf.keras.losses.Huber()\n",
        "state_value_in_each_timestep=[]\n",
        "action_in_each_timestep=[]\n",
        "reward_in_each_timestep=[]\n",
        "episode_counter=0\n",
        "reward_during_episodes=[]\n",
        "while True:\n",
        "\n",
        "\n",
        "  \n",
        "  state=env.reset()\n",
        "  episode_reward=0\n",
        "  with tf.GradientTape() as tape:\n",
        "    \n",
        "    for spisode in range(max_step_per_episode):\n",
        "      \n",
        "      # converting state to tensor for eager execution\n",
        "      state=tf.convert_to_tensor(state)\n",
        "      state=tf.expand_dims(state,0)\n",
        "      # predictinge probability of each action and estimated value of state\n",
        "      predicted_action_prob,value_state=actor_critic_model(state)\n",
        "      state_value_in_each_timestep.append(value_state[0,0])\n",
        "      # choosing action according probability of each actions \n",
        "      # this choosing method satisfys exploration for problem\n",
        "      selected_action=np.random.choice(num_actions,p=np.squeeze(predicted_action_prob))\n",
        "      action_in_each_timestep.append(tf.math.log(predicted_action_prob[0, selected_action]))\n",
        "      # take step\n",
        "      state,reward,done,_=env.step(selected_action)\n",
        "      episode_reward+=reward\n",
        "      reward_in_each_timestep.append(reward)\n",
        "\n",
        "      if done:\n",
        "        break\n",
        "    \n",
        "    running_reward=0.05*episode_reward+(1-0.05)*running_reward\n",
        "    reward_during_episodes.append(running_reward)\n",
        "    # calculating actual states value for calculating \n",
        "    # loss of critic\n",
        "    actual_returns=[]\n",
        "    discounted_sum=0\n",
        "    for r in reward_in_each_timestep[::-1]:\n",
        "      discounted_sum= r+ gamma*discounted_sum\n",
        "      actual_returns.insert(0,discounted_sum)\n",
        "    # normalizing targets\n",
        "    actual_returns=np.array(actual_returns)\n",
        "    actual_returns=(actual_returns-np.mean(actual_returns))/(np.std(actual_returns)+eps)\n",
        "    actual_returns=actual_returns.tolist()\n",
        "    # history\n",
        "    history=zip(action_in_each_timestep,state_value_in_each_timestep,actual_returns)\n",
        "    actor_loss=[]\n",
        "    critic_loss=[]\n",
        "    for log_prob,value,ret in history:\n",
        "      diff=ret - value\n",
        "      actor_loss.append(-1*log_prob*diff)\n",
        "      critic_loss.append(\n",
        "          huber_loss(tf.expand_dims(value, 0),tf.expand_dims(ret, 0)))\n",
        "    total_loss=sum(actor_loss)+sum(critic_loss)\n",
        "    state_value_in_each_timestep.clear()\n",
        "    action_in_each_timestep.clear()\n",
        "    reward_in_each_timestep.clear()\n",
        "    grades=tape.gradient(total_loss,actor_critic_model.trainable_variables)\n",
        "    optimizer.apply_gradients(zip(grades,actor_critic_model.trainable_variables))\n",
        "    episode_counter += 1\n",
        "  if episode_counter % 10 == 0:\n",
        "    \n",
        "    template = \"running reward: {:.2f} at episode {}\"\n",
        "    print(template.format(running_reward, episode_counter))\n",
        "\n",
        "  if running_reward > 195:  # Condition to consider the task solved\n",
        "    print(\"Solved at episode {}!\".format(episode_counter))\n",
        "    break"
      ],
      "execution_count": 7,
      "outputs": [
        {
          "output_type": "stream",
          "name": "stdout",
          "text": [
            "running reward: 67.52 at episode 10\n",
            "running reward: 80.08 at episode 20\n",
            "running reward: 106.05 at episode 30\n",
            "running reward: 117.26 at episode 40\n",
            "running reward: 126.38 at episode 50\n",
            "running reward: 141.60 at episode 60\n",
            "running reward: 151.39 at episode 70\n",
            "running reward: 136.27 at episode 80\n",
            "running reward: 118.69 at episode 90\n",
            "running reward: 108.76 at episode 100\n",
            "running reward: 128.94 at episode 110\n",
            "running reward: 154.40 at episode 120\n",
            "running reward: 146.08 at episode 130\n",
            "running reward: 119.17 at episode 140\n",
            "running reward: 107.47 at episode 150\n",
            "running reward: 142.51 at episode 160\n",
            "running reward: 138.88 at episode 170\n",
            "running reward: 130.29 at episode 180\n",
            "running reward: 132.19 at episode 190\n",
            "running reward: 149.90 at episode 200\n",
            "running reward: 170.00 at episode 210\n",
            "running reward: 182.04 at episode 220\n",
            "running reward: 189.25 at episode 230\n",
            "running reward: 193.56 at episode 240\n",
            "Solved at episode 245!\n"
          ]
        }
      ]
    },
    {
      "cell_type": "code",
      "metadata": {
        "id": "6cYGSz5sxJNm",
        "colab": {
          "base_uri": "https://localhost:8080/",
          "height": 295
        },
        "outputId": "5ae0b8ca-8fa4-4be6-f1ba-b8032c73511a"
      },
      "source": [
        "plt.plot(range(episode_counter),reward_during_episodes)\n",
        "plt.title('learning curve')\n",
        "plt.xlabel('episodes',c='r')\n",
        "plt.ylabel('running rewards in each episode',c='r')\n",
        "plt.savefig('actor-critic-cartpole',dpi=1000)\n",
        "plt.show()"
      ],
      "execution_count": 10,
      "outputs": [
        {
          "output_type": "display_data",
          "data": {
            "image/png": "[encoded data removed]",
            "text/plain": [
              "<Figure size 432x288 with 1 Axes>"
            ]
          },
          "metadata": {
            "needs_background": "light"
          }
        }
      ]
    },
    {
      "cell_type": "markdown",
      "metadata": {
        "id": "nJH7rgeAIxxJ"
      },
      "source": [
        "## Visualizations\n",
        "In early stages of training:\n",
        "![Imgur](https://i.imgur.com/5gCs5kH.gif)\n",
        "\n",
        "In later stages of training:\n",
        "![Imgur](https://i.imgur.com/5ziiZUD.gif)\n"
      ]
    }
  ]
}